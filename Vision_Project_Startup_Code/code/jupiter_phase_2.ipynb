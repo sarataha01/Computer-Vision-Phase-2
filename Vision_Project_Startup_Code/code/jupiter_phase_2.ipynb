{
 "cells": [
  {
   "attachments": {},
   "cell_type": "markdown",
   "metadata": {},
   "source": [
    "## Needed libraries"
   ]
  },
  {
   "cell_type": "code",
   "execution_count": 4,
   "metadata": {},
   "outputs": [],
   "source": [
    "%matplotlib inline\n",
    "import cv2 # OpenCV for perspective transform\n",
    "import numpy as np\n",
    "import matplotlib.image as mpimg\n",
    "import matplotlib.pyplot as plt\n",
    "import scipy.misc # For saving images as needed\n",
    "import glob  # For reading in a list of images from a folder\n",
    "#imageio.plugins.ffmpeg.download()"
   ]
  },
  {
   "attachments": {},
   "cell_type": "markdown",
   "metadata": {},
   "source": [
    "## In the decision.py file "
   ]
  },
  {
   "attachments": {},
   "cell_type": "markdown",
   "metadata": {},
   "source": [
    "1. This function is called when the rover is stuck in an obstacle in order to solve this problem."
   ]
  },
  {
   "cell_type": "code",
   "execution_count": 2,
   "metadata": {},
   "outputs": [],
   "source": [
    "def stuck(Rover):\n",
    "    global stuck_time\n",
    "    Rover.throttle = 0\n",
    "    Rover.brake = 0\n",
    "    Rover.steer = -15\n",
    "    return Rover"
   ]
  },
  {
   "attachments": {},
   "cell_type": "markdown",
   "metadata": {},
   "source": [
    "2. We defined decision step in where we made use of stuck_time - which is the time taken by the rover being stuck in an obstacle or donut_time - which is time taken by the rover revolving around itself in a circle.\n",
    "\n",
    "Lastly, the offset where it makes the rover stay to the left side of the navigable terrain (left wall hugging)\n",
    "    to get the right wall --> multiply the offset by -1\n"
   ]
  },
  {
   "cell_type": "code",
   "execution_count": 3,
   "metadata": {},
   "outputs": [],
   "source": [
    "\n",
    "def decision_step(Rover):   \n",
    "    global stuck_time\n",
    "    global donut_time\n",
    "    \n",
    "    offset = 0\n",
    "\n",
    "    # Only apply left wall hugging when out of the starting point (after 10s)\n",
    "    # to avoid getting stuck in a circle\n",
    "    if Rover.total_time > 10:\n",
    "        # Steering proportional to the deviation results in\n",
    "        # small offsets on straight lines and\n",
    "        # large values in turns and open areas\n",
    "        offset = 0.8 * np.std(Rover.nav_angles)"
   ]
  },
  {
   "attachments": {},
   "cell_type": "markdown",
   "metadata": {},
   "source": [
    "2. 1. This if condition is responsible on sending pickup if a rock was detected.  "
   ]
  },
  {
   "cell_type": "code",
   "execution_count": 10,
   "metadata": {},
   "outputs": [
    {
     "ename": "SyntaxError",
     "evalue": "'return' outside function (1536536892.py, line 3)",
     "output_type": "error",
     "traceback": [
      "\u001b[0;36m  Cell \u001b[0;32mIn[10], line 3\u001b[0;36m\u001b[0m\n\u001b[0;31m    return Rover\u001b[0m\n\u001b[0m    ^\u001b[0m\n\u001b[0;31mSyntaxError\u001b[0m\u001b[0;31m:\u001b[0m 'return' outside function\n"
     ]
    }
   ],
   "source": [
    "if Rover.near_sample and Rover.vel == 0 and not Rover.picking_up:\n",
    "        Rover.send_pickup = True\n",
    "        return Rover"
   ]
  },
  {
   "attachments": {},
   "cell_type": "markdown",
   "metadata": {},
   "source": [
    "2.2 This if condition checks whether we are near a sample or not, in case true we change the rover mode to stop"
   ]
  },
  {
   "cell_type": "code",
   "execution_count": 6,
   "metadata": {},
   "outputs": [
    {
     "ename": "SyntaxError",
     "evalue": "'return' outside function (2926484530.py, line 5)",
     "output_type": "error",
     "traceback": [
      "\u001b[0;36m  Cell \u001b[0;32mIn[6], line 5\u001b[0;36m\u001b[0m\n\u001b[0;31m    return Rover\u001b[0m\n\u001b[0m    ^\u001b[0m\n\u001b[0;31mSyntaxError\u001b[0m\u001b[0;31m:\u001b[0m 'return' outside function\n"
     ]
    }
   ],
   "source": [
    "if Rover.near_sample:\n",
    "        Rover.mode = 'stop'\n",
    "        Rover.throttle = 0\n",
    "        Rover.brake = Rover.brake_set\n",
    "        return Rover"
   ]
  },
  {
   "attachments": {},
   "cell_type": "markdown",
   "metadata": {},
   "source": [
    "2.3 This if condition is responsible on checking whether the rover mode is in LargeCircleRotation, in case true the rover moves forward "
   ]
  },
  {
   "cell_type": "code",
   "execution_count": null,
   "metadata": {},
   "outputs": [],
   "source": [
    "if Rover.mode == \"LargeCircleRotation\":\n",
    "        if time.time() - donut_time > 15:\n",
    "            Rover.mode = \"forward\"\n",
    "            donut_time=time.time()\n",
    "        else:\n",
    "            Rover.throttle = 0\n",
    "            Rover.brake = 0\n",
    "            Rover.steer = -10\n",
    "        return Rover"
   ]
  },
  {
   "attachments": {},
   "cell_type": "markdown",
   "metadata": {},
   "source": [
    "2.4 This if condition is responsible on checking whether the rover rotating in the same direction, in case true change rover mode to LargeCircleRotation "
   ]
  },
  {
   "cell_type": "code",
   "execution_count": null,
   "metadata": {},
   "outputs": [],
   "source": [
    "if Rover.steer==15 or Rover.steer==-15:\n",
    "        if time.time() - donut_time > 10:  \n",
    "            Rover.mode = \"LargeCircleRotation\"\n",
    "            return Rover\n",
    "else:\n",
    "        donut_time=time.time()"
   ]
  },
  {
   "attachments": {},
   "cell_type": "markdown",
   "metadata": {},
   "source": [
    "2.5 This if condtion checks whether the rover can see the rock in its feild of view, in case true it stops immediately and moves forward towards the rock. The same code is repeated in the stop mode of the rover."
   ]
  },
  {
   "cell_type": "code",
   "execution_count": null,
   "metadata": {},
   "outputs": [],
   "source": [
    "if len(Rover.rock_angles) > 1:\n",
    "            Rover.brake = Rover.brake_set\n",
    "            Rover.mode = 'stop'\n",
    "            Rover.steer = np.clip(np.mean(Rover.rock_angles * 180/np.pi), -15, 15)\n",
    "            if (np.mean(Rover.rock_dists) >= 4):\n",
    "                Rover.throttle = 0.4\n",
    "                Rover.brake = 0\n",
    "            elif (np.mean(Rover.rock_dists) <= 4):\n",
    "                Rover.brake = Rover.brake_set\n",
    "                Rover.near_sample = True\n",
    "            return Rover"
   ]
  },
  {
   "cell_type": "code",
   "execution_count": null,
   "metadata": {},
   "outputs": [],
   "source": [
    "elif Rover.mode == 'stop':\n",
    "            # If we're in stop mode but still moving keep braking\n",
    "            if len(Rover.rock_angles) > 1:\n",
    "                Rover.brake = Rover.brake_set\n",
    "                Rover.steer = np.clip(np.mean(Rover.rock_angles * 180/np.pi), -15, 15)\n",
    "                if (np.mean(Rover.rock_dists) >= 3):\n",
    "                    Rover.throttle = 0.2\n",
    "                    Rover.brake = 0\n",
    "                elif (np.mean(Rover.rock_dists) <= 3):\n",
    "                    Rover.brake = Rover.brake_set\n",
    "                    Rover.near_sample = True\n",
    "                return Rover"
   ]
  },
  {
   "attachments": {},
   "cell_type": "markdown",
   "metadata": {},
   "source": [
    "# 2.6 In case of forward state: \n",
    "\n",
    "2.6.1 check if the rover is stuck in forward mode and not moving (stuck under a rock)"
   ]
  },
  {
   "cell_type": "code",
   "execution_count": null,
   "metadata": {},
   "outputs": [],
   "source": [
    " if Rover.vel <= 0.1 and Rover.throttle!=0 and len(Rover.rock_angles == 0):\n",
    "                if time.time() - stuck_time > 1.5:\n",
    "                    Rover = stuck(Rover)\n",
    "                    return Rover"
   ]
  },
  {
   "attachments": {},
   "cell_type": "markdown",
   "metadata": {},
   "source": [
    "2.6.2 check for the navigable terrain and apply a throttle in the direction of the mean of the navigation angles"
   ]
  },
  {
   "cell_type": "code",
   "execution_count": 7,
   "metadata": {},
   "outputs": [
    {
     "ename": "NameError",
     "evalue": "name 'Rover' is not defined",
     "output_type": "error",
     "traceback": [
      "\u001b[0;31m---------------------------------------------------------------------------\u001b[0m",
      "\u001b[0;31mNameError\u001b[0m                                 Traceback (most recent call last)",
      "Cell \u001b[0;32mIn[7], line 1\u001b[0m\n\u001b[0;32m----> 1\u001b[0m \u001b[39mif\u001b[39;00m \u001b[39mlen\u001b[39m(Rover\u001b[39m.\u001b[39mnav_angles) \u001b[39m>\u001b[39m\u001b[39m=\u001b[39m Rover\u001b[39m.\u001b[39mstop_forward:  \n\u001b[1;32m      2\u001b[0m                 \u001b[39m# If mode is forward, navigable terrain looks good \u001b[39;00m\n\u001b[1;32m      3\u001b[0m                 \u001b[39m# and velocity is below max, then throttle \u001b[39;00m\n\u001b[1;32m      4\u001b[0m                 \u001b[39mif\u001b[39;00m Rover\u001b[39m.\u001b[39mvel \u001b[39m<\u001b[39m Rover\u001b[39m.\u001b[39mmax_vel:\n\u001b[1;32m      5\u001b[0m                     \u001b[39m# Set throttle value to throttle setting\u001b[39;00m\n\u001b[1;32m      6\u001b[0m                     Rover\u001b[39m.\u001b[39mthrottle \u001b[39m=\u001b[39m Rover\u001b[39m.\u001b[39mthrottle_set\n",
      "\u001b[0;31mNameError\u001b[0m: name 'Rover' is not defined"
     ]
    }
   ],
   "source": [
    "if len(Rover.nav_angles) >= Rover.stop_forward:  \n",
    "                # If mode is forward, navigable terrain looks good \n",
    "                # and velocity is below max, then throttle \n",
    "                if Rover.vel < Rover.max_vel:\n",
    "                    # Set throttle value to throttle setting\n",
    "                    Rover.throttle = Rover.throttle_set\n",
    "                else: # Else coast\n",
    "                    Rover.throttle = 0\n",
    "                Rover.brake = 0\n",
    "                # Set steering to average angle clipped to the range +/- 15\n",
    "                try:\n",
    "                    Rover.steer = np.clip(np.mean(Rover.nav_angles * 180/np.pi) + offset, -15, 15)\n",
    "                except:\n",
    "                    print(\"mean of nav angles caught an exception\")"
   ]
  },
  {
   "attachments": {},
   "cell_type": "markdown",
   "metadata": {},
   "source": [
    "2.6.3 else in case of a lack of navigable terrain => switch to stop mode where we navigate to the right (-15) in order to find navigable terrain"
   ]
  },
  {
   "cell_type": "code",
   "execution_count": null,
   "metadata": {},
   "outputs": [],
   "source": [
    "elif len(Rover.nav_angles) < Rover.stop_forward:\n",
    "                    # Set mode to \"stop\" and hit the brakes!\n",
    "                    Rover.throttle = 0\n",
    "                    # Set brake to stored brake value\n",
    "                    Rover.brake = Rover.brake_set\n",
    "                    Rover.steer = np.clip(np.mean(Rover.nav_angles * 180/np.pi)+ offset, -15, 15)\n",
    "                    Rover.mode = 'stop'"
   ]
  },
  {
   "attachments": {},
   "cell_type": "markdown",
   "metadata": {},
   "source": [
    "2.7 as mentioned above in the stop mode:\n",
    "\n",
    "2.7.1 we check whether there are rock samples or not, in case true we break then steer towards the samples"
   ]
  },
  {
   "cell_type": "code",
   "execution_count": null,
   "metadata": {},
   "outputs": [],
   "source": [
    "elif Rover.mode == 'stop':\n",
    "            # If we're in stop mode but still moving keep braking\n",
    "            if len(Rover.rock_angles) > 1:\n",
    "                Rover.brake = Rover.brake_set\n",
    "                Rover.steer = np.clip(np.mean(Rover.rock_angles * 180/np.pi), -15, 15)\n",
    "                if (np.mean(Rover.rock_dists) >= 3):\n",
    "                    Rover.throttle = 0.2\n",
    "                    Rover.brake = 0\n",
    "                elif (np.mean(Rover.rock_dists) <= 3):\n",
    "                    Rover.brake = Rover.brake_set\n",
    "                    Rover.near_sample = True\n",
    "                return Rover"
   ]
  },
  {
   "attachments": {},
   "cell_type": "markdown",
   "metadata": {},
   "source": [
    "2.7.2 we check if we did not stop completely then we set the brakes and stop "
   ]
  },
  {
   "cell_type": "code",
   "execution_count": null,
   "metadata": {},
   "outputs": [],
   "source": [
    "if Rover.vel > 0.2:\n",
    "                Rover.throttle = 0\n",
    "                Rover.brake = Rover.brake_set\n",
    "                Rover.steer = 0"
   ]
  },
  {
   "attachments": {},
   "cell_type": "markdown",
   "metadata": {},
   "source": [
    "2.7.3 we check if the velocity is below 0.2 and there isnt enough navigable terrain, in case true we steer to the right - since we are hugging the left wall, in case false if there is enough navigable terrain we move in the direction of the mean of the angles of the navigable terrain"
   ]
  },
  {
   "cell_type": "code",
   "execution_count": null,
   "metadata": {},
   "outputs": [],
   "source": [
    "elif Rover.vel <= 0.2:\n",
    "                # Now we're stopped and we have vision data to see if there's a path forward\n",
    "                if (len(Rover.nav_angles) < Rover.go_forward) and len(Rover.rock_angles) == 0:\n",
    "                    Rover.throttle = 0\n",
    "                    # Release the brake to allow turning\n",
    "                    Rover.brake = 0\n",
    "                    # Turn range is +/- 15 degrees, when stopped the next line will induce 4-wheel turning\n",
    "                    Rover.steer = -15 # Could be more clever here about which way to turn\n",
    "                # If we're stopped but see sufficient navigable terrain in front then go!\n",
    "                if len(Rover.nav_angles) >= Rover.go_forward:\n",
    "                    # Set throttle back to stored value\n",
    "                    Rover.throttle = Rover.throttle_set\n",
    "                    # Release the brake\n",
    "                    Rover.brake = 0\n",
    "                    # Set steer to mean angle\n",
    "                    try:\n",
    "                        Rover.steer = np.clip(np.mean(Rover.nav_angles  * 180/np.pi) + offset, -15, 15)\n",
    "                    except:\n",
    "                        print(\"mean of nav angles caught an exception\")\n",
    "                    Rover.mode = 'forward'"
   ]
  },
  {
   "attachments": {},
   "cell_type": "markdown",
   "metadata": {},
   "source": [
    "2.8 At last we check if the rover is stuck in a circle then we start moving forward as soon as we see little navigable terrain  "
   ]
  },
  {
   "cell_type": "code",
   "execution_count": null,
   "metadata": {},
   "outputs": [],
   "source": [
    "if Rover.vel == 0 and Rover.steer == -15 and len(Rover.nav_angles) > 20 and len(Rover.rock_angles) == 0 :\n",
    "                Rover.steer = 0\n",
    "                Rover.throttle = 0.5\n",
    "                Rover.mode = 'forward'"
   ]
  },
  {
   "attachments": {},
   "cell_type": "markdown",
   "metadata": {},
   "source": [
    "## In the perception.py we made some changes"
   ]
  },
  {
   "attachments": {},
   "cell_type": "markdown",
   "metadata": {},
   "source": [
    "1. we defined impose_range function to limit the range of the rover's camera in order to increase the fidelity "
   ]
  },
  {
   "cell_type": "code",
   "execution_count": null,
   "metadata": {},
   "outputs": [],
   "source": [
    "def impose_range(xpix, ypix, range=80):\n",
    "    dist = np.sqrt(xpix**2 + ypix**2)\n",
    "    return xpix[dist < range], ypix[dist < range]"
   ]
  },
  {
   "attachments": {},
   "cell_type": "markdown",
   "metadata": {},
   "source": [
    "1.1 Then we apply the limited range only to the obstacles and the navigable terrain"
   ]
  },
  {
   "cell_type": "code",
   "execution_count": null,
   "metadata": {},
   "outputs": [],
   "source": [
    "x_thresh, y_thresh = impose_range(x_thresh,y_thresh)\n",
    "x_obst , y_obst = impose_range(x_obst , y_obst)"
   ]
  },
  {
   "attachments": {},
   "cell_type": "markdown",
   "metadata": {},
   "source": [
    "2. added code to update the world map only when the rover is flat on the ground "
   ]
  },
  {
   "cell_type": "code",
   "execution_count": null,
   "metadata": {},
   "outputs": [],
   "source": [
    "if (Rover.roll < 0.5 or Rover.roll > 359.5) and (Rover.pitch < 0.5 or Rover.pitch > 359.5):\n",
    "        Rover.worldmap[yw_obst, xw_obst, 0] =255 #+= 1\n",
    "        Rover.worldmap[yw_rock, xw_rock, 1] =255 #+= 1\n",
    "        Rover.worldmap[y_world, x_world, 2] =255 #+= 1\n",
    "\n",
    "        nav_pix = Rover.worldmap[:, :, 2] > 0\n",
    "        Rover.worldmap[nav_pix, 0] = 0\n",
    "        # clip to avoid overflow\n",
    "        Rover.worldmap = np.clip(Rover.worldmap, 0, 255)\n",
    "        Rover.worldmap[yw_obst , xw_obst, 0] += 1\n",
    "        Rover.worldmap[yw_rock, xw_rock, 1] += 1\n",
    "        Rover.worldmap[y_world, x_world, 2] += 1"
   ]
  }
 ],
 "metadata": {
  "kernelspec": {
   "display_name": "Python 3",
   "language": "python",
   "name": "python3"
  },
  "language_info": {
   "codemirror_mode": {
    "name": "ipython",
    "version": 3
   },
   "file_extension": ".py",
   "mimetype": "text/x-python",
   "name": "python",
   "nbconvert_exporter": "python",
   "pygments_lexer": "ipython3",
   "version": "3.10.6 (main, Nov  2 2022, 18:53:38) [GCC 11.3.0]"
  },
  "orig_nbformat": 4,
  "vscode": {
   "interpreter": {
    "hash": "916dbcbb3f70747c44a77c7bcd40155683ae19c65e1c03b4aa3499c5328201f1"
   }
  }
 },
 "nbformat": 4,
 "nbformat_minor": 2
}
